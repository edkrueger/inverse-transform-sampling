{
 "cells": [
  {
   "cell_type": "code",
   "execution_count": 1,
   "metadata": {},
   "outputs": [],
   "source": [
    "%load_ext lab_black"
   ]
  },
  {
   "cell_type": "code",
   "execution_count": 2,
   "metadata": {},
   "outputs": [],
   "source": [
    "from matplotlib import pyplot as plt\n",
    "\n",
    "from resc.inverse_transformation import create_random_variable"
   ]
  },
  {
   "cell_type": "code",
   "execution_count": 3,
   "metadata": {},
   "outputs": [],
   "source": [
    "def make_triangular_cdf(a=0, b=1, c=1 / 2):\n",
    "    def triangular_cdf(x):\n",
    "\n",
    "        if x < a:\n",
    "            return 0\n",
    "        if a <= x < c:\n",
    "            numerator = (x - a) ** 2\n",
    "            denominator = (b - a) * (c - a)\n",
    "            return numerator / denominator\n",
    "        if c <= x < b:\n",
    "            numerator = (b - x) ** 2\n",
    "            denominator = (b - a) * (b - c)\n",
    "            return 1 - numerator / denominator\n",
    "        if x >= b:\n",
    "            return 1\n",
    "\n",
    "    return triangular_cdf"
   ]
  },
  {
   "cell_type": "code",
   "execution_count": 4,
   "metadata": {},
   "outputs": [],
   "source": [
    "triangle_cdf = make_triangular_cdf(0, 1, 1 / 2)"
   ]
  },
  {
   "cell_type": "code",
   "execution_count": 5,
   "metadata": {},
   "outputs": [],
   "source": [
    "triangular_rv = create_random_variable(triangle_cdf, 0, 1, 1_000)"
   ]
  },
  {
   "cell_type": "code",
   "execution_count": 6,
   "metadata": {},
   "outputs": [
    {
     "data": {
      "text/plain": [
       "(array([  3.,   4.,  14.,  18.,  30.,  23.,  33.,  35.,  31.,  43.,  37.,\n",
       "         52.,  48.,  60.,  61.,  69.,  52.,  64.,  62.,  88.,  85.,  79.,\n",
       "         77.,  99., 111.,  89.,  98., 101., 115., 116., 127., 117., 119.,\n",
       "        112., 152., 112., 153., 145., 149., 151., 138., 141., 158., 191.,\n",
       "        175., 172., 188., 193., 192., 162., 209., 200., 185., 193., 189.,\n",
       "        181., 171., 187., 181., 165., 170., 140., 155., 161., 144., 130.,\n",
       "        133., 136., 114., 138., 121., 108., 106.,  93., 113., 104., 103.,\n",
       "         83., 103.,  89.,  93.,  74.,  61.,  57.,  63.,  61.,  53.,  52.,\n",
       "         43.,  45.,  42.,  31.,  38.,  32.,  30.,  22.,  18.,  12.,  17.,\n",
       "          7.]),\n",
       " array([0.003  , 0.01282, 0.02264, 0.03246, 0.04228, 0.0521 , 0.06192,\n",
       "        0.07174, 0.08156, 0.09138, 0.1012 , 0.11102, 0.12084, 0.13066,\n",
       "        0.14048, 0.1503 , 0.16012, 0.16994, 0.17976, 0.18958, 0.1994 ,\n",
       "        0.20922, 0.21904, 0.22886, 0.23868, 0.2485 , 0.25832, 0.26814,\n",
       "        0.27796, 0.28778, 0.2976 , 0.30742, 0.31724, 0.32706, 0.33688,\n",
       "        0.3467 , 0.35652, 0.36634, 0.37616, 0.38598, 0.3958 , 0.40562,\n",
       "        0.41544, 0.42526, 0.43508, 0.4449 , 0.45472, 0.46454, 0.47436,\n",
       "        0.48418, 0.494  , 0.50382, 0.51364, 0.52346, 0.53328, 0.5431 ,\n",
       "        0.55292, 0.56274, 0.57256, 0.58238, 0.5922 , 0.60202, 0.61184,\n",
       "        0.62166, 0.63148, 0.6413 , 0.65112, 0.66094, 0.67076, 0.68058,\n",
       "        0.6904 , 0.70022, 0.71004, 0.71986, 0.72968, 0.7395 , 0.74932,\n",
       "        0.75914, 0.76896, 0.77878, 0.7886 , 0.79842, 0.80824, 0.81806,\n",
       "        0.82788, 0.8377 , 0.84752, 0.85734, 0.86716, 0.87698, 0.8868 ,\n",
       "        0.89662, 0.90644, 0.91626, 0.92608, 0.9359 , 0.94572, 0.95554,\n",
       "        0.96536, 0.97518, 0.985  ]),\n",
       " <a list of 100 Patch objects>)"
      ]
     },
     "execution_count": 6,
     "metadata": {},
     "output_type": "execute_result"
    },
    {
     "data": {
      "image/png": "[encoded data removed]",
      "text/plain": [
       "<Figure size 432x288 with 1 Axes>"
      ]
     },
     "metadata": {
      "needs_background": "light"
     },
     "output_type": "display_data"
    }
   ],
   "source": [
    "plt.hist([triangular_rv() for _ in range(10_000)], bins=100)"
   ]
  },
  {
   "cell_type": "code",
   "execution_count": null,
   "metadata": {},
   "outputs": [],
   "source": []
  }
 ],
 "metadata": {
  "kernelspec": {
   "display_name": "Python 3",
   "language": "python",
   "name": "python3"
  },
  "language_info": {
   "codemirror_mode": {
    "name": "ipython",
    "version": 3
   },
   "file_extension": ".py",
   "mimetype": "text/x-python",
   "name": "python",
   "nbconvert_exporter": "python",
   "pygments_lexer": "ipython3",
   "version": "3.7.5"
  }
 },
 "nbformat": 4,
 "nbformat_minor": 4
}
