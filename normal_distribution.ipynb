{
 "cells": [
  {
   "cell_type": "code",
   "execution_count": 1,
   "metadata": {},
   "outputs": [],
   "source": [
    "%load_ext lab_black"
   ]
  },
  {
   "cell_type": "code",
   "execution_count": 2,
   "metadata": {},
   "outputs": [],
   "source": [
    "from matplotlib import pyplot as plt\n",
    "\n",
    "from resc.inverse_transformation import *\n",
    "from resc.normal import *"
   ]
  },
  {
   "cell_type": "code",
   "execution_count": 3,
   "metadata": {},
   "outputs": [],
   "source": [
    "normal_cdf = integrate(normal_pdf, -10, 10, 10_000)"
   ]
  },
  {
   "cell_type": "code",
   "execution_count": 4,
   "metadata": {},
   "outputs": [],
   "source": [
    "inverse_normal_cdf = psuedo_invert(normal_cdf, -10, 10, 10_000)"
   ]
  },
  {
   "cell_type": "code",
   "execution_count": 5,
   "metadata": {},
   "outputs": [
    {
     "data": {
      "text/plain": [
       "-10"
      ]
     },
     "execution_count": 5,
     "metadata": {},
     "output_type": "execute_result"
    }
   ],
   "source": [
    "inverse_normal_cdf(0)"
   ]
  },
  {
   "cell_type": "code",
   "execution_count": 6,
   "metadata": {},
   "outputs": [
    {
     "data": {
      "text/plain": [
       "10"
      ]
     },
     "execution_count": 6,
     "metadata": {},
     "output_type": "execute_result"
    }
   ],
   "source": [
    "inverse_normal_cdf(1)"
   ]
  },
  {
   "cell_type": "code",
   "execution_count": 7,
   "metadata": {},
   "outputs": [],
   "source": [
    "normal_random_variable = create_random_variable(normal_cdf, -10, 10, 10_000)"
   ]
  },
  {
   "cell_type": "code",
   "execution_count": 8,
   "metadata": {},
   "outputs": [
    {
     "data": {
      "text/plain": [
       "1.8940000000000097"
      ]
     },
     "execution_count": 8,
     "metadata": {},
     "output_type": "execute_result"
    }
   ],
   "source": [
    "normal_random_variable()"
   ]
  },
  {
   "cell_type": "code",
   "execution_count": 9,
   "metadata": {},
   "outputs": [
    {
     "data": {
      "text/plain": [
       "(array([  1.,   0.,   0.,   0.,   1.,   1.,   0.,   0.,   1.,   0.,   0.,\n",
       "          0.,   1.,   2.,   7.,   2.,   4.,   3.,   3.,   6.,  11.,   7.,\n",
       "         12.,  23.,  15.,  30.,  25.,  33.,  43.,  47.,  53.,  57.,  66.,\n",
       "         74.,  95., 107., 113., 141., 145., 147., 180., 183., 197., 199.,\n",
       "        221., 244., 257., 252., 290., 286., 348., 288., 317., 318., 334.,\n",
       "        327., 304., 322., 292., 299., 303., 253., 237., 242., 228., 208.,\n",
       "        206., 170., 166., 135., 133., 132., 126., 103.,  67.,  74.,  82.,\n",
       "         63.,  56.,  54.,  35.,  36.,  25.,  29.,  22.,  11.,  20.,  16.,\n",
       "          8.,   4.,   7.,   6.,   1.,   3.,   1.,   0.,   1.,   2.,   0.,\n",
       "          1.]),\n",
       " array([-4.282  , -4.20374, -4.12548, -4.04722, -3.96896, -3.8907 ,\n",
       "        -3.81244, -3.73418, -3.65592, -3.57766, -3.4994 , -3.42114,\n",
       "        -3.34288, -3.26462, -3.18636, -3.1081 , -3.02984, -2.95158,\n",
       "        -2.87332, -2.79506, -2.7168 , -2.63854, -2.56028, -2.48202,\n",
       "        -2.40376, -2.3255 , -2.24724, -2.16898, -2.09072, -2.01246,\n",
       "        -1.9342 , -1.85594, -1.77768, -1.69942, -1.62116, -1.5429 ,\n",
       "        -1.46464, -1.38638, -1.30812, -1.22986, -1.1516 , -1.07334,\n",
       "        -0.99508, -0.91682, -0.83856, -0.7603 , -0.68204, -0.60378,\n",
       "        -0.52552, -0.44726, -0.369  , -0.29074, -0.21248, -0.13422,\n",
       "        -0.05596,  0.0223 ,  0.10056,  0.17882,  0.25708,  0.33534,\n",
       "         0.4136 ,  0.49186,  0.57012,  0.64838,  0.72664,  0.8049 ,\n",
       "         0.88316,  0.96142,  1.03968,  1.11794,  1.1962 ,  1.27446,\n",
       "         1.35272,  1.43098,  1.50924,  1.5875 ,  1.66576,  1.74402,\n",
       "         1.82228,  1.90054,  1.9788 ,  2.05706,  2.13532,  2.21358,\n",
       "         2.29184,  2.3701 ,  2.44836,  2.52662,  2.60488,  2.68314,\n",
       "         2.7614 ,  2.83966,  2.91792,  2.99618,  3.07444,  3.1527 ,\n",
       "         3.23096,  3.30922,  3.38748,  3.46574,  3.544  ]),\n",
       " <a list of 100 Patch objects>)"
      ]
     },
     "execution_count": 9,
     "metadata": {},
     "output_type": "execute_result"
    },
    {
     "data": {
      "image/png": "[encoded data removed]",
      "text/plain": [
       "<Figure size 432x288 with 1 Axes>"
      ]
     },
     "metadata": {
      "needs_background": "light"
     },
     "output_type": "display_data"
    }
   ],
   "source": [
    "plt.hist([normal_random_variable() for _ in range(10_000)], bins=100)"
   ]
  }
 ],
 "metadata": {
  "kernelspec": {
   "display_name": "Python 3",
   "language": "python",
   "name": "python3"
  },
  "language_info": {
   "codemirror_mode": {
    "name": "ipython",
    "version": 3
   },
   "file_extension": ".py",
   "mimetype": "text/x-python",
   "name": "python",
   "nbconvert_exporter": "python",
   "pygments_lexer": "ipython3",
   "version": "3.7.5"
  }
 },
 "nbformat": 4,
 "nbformat_minor": 4
}
