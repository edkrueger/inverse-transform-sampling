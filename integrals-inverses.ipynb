{
 "cells": [
  {
   "cell_type": "code",
   "execution_count": 1,
   "metadata": {},
   "outputs": [],
   "source": [
    "%load_ext lab_black"
   ]
  },
  {
   "cell_type": "code",
   "execution_count": 2,
   "metadata": {},
   "outputs": [],
   "source": [
    "import math\n",
    "import collections"
   ]
  },
  {
   "cell_type": "code",
   "execution_count": 3,
   "metadata": {},
   "outputs": [],
   "source": [
    "def normal_pdf(x, mu=0, sigma=1):\n",
    "\n",
    "    numerator = math.exp(-(1 / 2) * ((x - mu) / sigma) ** 2)\n",
    "    denominator = sigma * math.sqrt(2 * math.pi)\n",
    "\n",
    "    return numerator / denominator"
   ]
  },
  {
   "cell_type": "code",
   "execution_count": 4,
   "metadata": {},
   "outputs": [],
   "source": [
    "def make_integral_table(f, a, b, n_steps):\n",
    "\n",
    "    dx = (b - a) / n_steps\n",
    "\n",
    "    table = collections.OrderedDict()\n",
    "    cum_area = 0\n",
    "\n",
    "    x = a\n",
    "    table[x] = cum_area\n",
    "\n",
    "    while x < b:\n",
    "        next_x = x + dx\n",
    "        midpoint = (x + next_x) / 2\n",
    "        height = f(midpoint)\n",
    "        area = height * dx\n",
    "        cum_area += area\n",
    "        table[next_x] = cum_area\n",
    "        x = next_x\n",
    "\n",
    "    return table"
   ]
  },
  {
   "cell_type": "code",
   "execution_count": 5,
   "metadata": {},
   "outputs": [],
   "source": [
    "def integrate(f, a, b, n_steps):\n",
    "\n",
    "    table = make_integral_table(f, a, b, n_steps)\n",
    "\n",
    "    def f_integrated(x):\n",
    "\n",
    "        last_k = None\n",
    "        for current_k in table.keys():\n",
    "\n",
    "            if current_k > x:\n",
    "                break\n",
    "            last_k = current_k\n",
    "\n",
    "        return table.get(last_k, 0)\n",
    "\n",
    "    return f_integrated"
   ]
  },
  {
   "cell_type": "code",
   "execution_count": 6,
   "metadata": {},
   "outputs": [],
   "source": [
    "def make_psuedo_inverse_table(f, a, b, n_steps):\n",
    "\n",
    "    dx = (b - a) / n_steps\n",
    "\n",
    "    table = collections.OrderedDict()\n",
    "\n",
    "    x = a\n",
    "    table[f(x)] = x\n",
    "\n",
    "    while x < b:\n",
    "        next_x = x + dx\n",
    "        table[f(next_x)] = next_x\n",
    "        x = next_x\n",
    "\n",
    "    return table"
   ]
  },
  {
   "cell_type": "code",
   "execution_count": 7,
   "metadata": {},
   "outputs": [],
   "source": [
    "def psuedo_invert(f, a, b, n_steps):\n",
    "\n",
    "    table = make_psuedo_inverse_table(f, a, b, n_steps)\n",
    "\n",
    "    def f_inverted(x):\n",
    "        last_k = None\n",
    "        for current_k in table.keys():\n",
    "\n",
    "            if current_k > x:\n",
    "                break\n",
    "            last_k = current_k\n",
    "\n",
    "        return table[last_k] if table[last_k] < b else b\n",
    "\n",
    "    return f_inverted"
   ]
  },
  {
   "cell_type": "code",
   "execution_count": 8,
   "metadata": {},
   "outputs": [],
   "source": [
    "normal_cdf = integrate(normal_pdf, -10, 10, 10_000)"
   ]
  },
  {
   "cell_type": "code",
   "execution_count": 9,
   "metadata": {},
   "outputs": [],
   "source": [
    "inverse_normal_cdf = psuedo_invert(normal_cdf, -10, 10, 10_000)"
   ]
  },
  {
   "cell_type": "code",
   "execution_count": 10,
   "metadata": {},
   "outputs": [
    {
     "data": {
      "text/plain": [
       "-10"
      ]
     },
     "execution_count": 10,
     "metadata": {},
     "output_type": "execute_result"
    }
   ],
   "source": [
    "inverse_normal_cdf(0)"
   ]
  },
  {
   "cell_type": "code",
   "execution_count": 11,
   "metadata": {},
   "outputs": [
    {
     "data": {
      "text/plain": [
       "10"
      ]
     },
     "execution_count": 11,
     "metadata": {},
     "output_type": "execute_result"
    }
   ],
   "source": [
    "inverse_normal_cdf(1)"
   ]
  }
 ],
 "metadata": {
  "kernelspec": {
   "display_name": "Python 3",
   "language": "python",
   "name": "python3"
  },
  "language_info": {
   "codemirror_mode": {
    "name": "ipython",
    "version": 3
   },
   "file_extension": ".py",
   "mimetype": "text/x-python",
   "name": "python",
   "nbconvert_exporter": "python",
   "pygments_lexer": "ipython3",
   "version": "3.7.5"
  }
 },
 "nbformat": 4,
 "nbformat_minor": 4
}
