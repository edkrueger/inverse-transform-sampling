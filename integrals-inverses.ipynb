{
 "cells": [
  {
   "cell_type": "code",
   "execution_count": 1,
   "metadata": {},
   "outputs": [],
   "source": [
    "%load_ext lab_black"
   ]
  },
  {
   "cell_type": "code",
   "execution_count": 2,
   "metadata": {},
   "outputs": [],
   "source": [
    "import math\n",
    "import collections\n",
    "import random\n",
    "\n",
    "from matplotlib import pyplot as plt"
   ]
  },
  {
   "cell_type": "code",
   "execution_count": 3,
   "metadata": {},
   "outputs": [],
   "source": [
    "def normal_pdf(x, mu=0, sigma=1):\n",
    "\n",
    "    numerator = math.exp(-(1 / 2) * ((x - mu) / sigma) ** 2)\n",
    "    denominator = sigma * math.sqrt(2 * math.pi)\n",
    "\n",
    "    return numerator / denominator"
   ]
  },
  {
   "cell_type": "code",
   "execution_count": 4,
   "metadata": {},
   "outputs": [],
   "source": [
    "def make_integral_table(f, a, b, n_steps):\n",
    "\n",
    "    dx = (b - a) / n_steps\n",
    "\n",
    "    table = collections.OrderedDict()\n",
    "    cum_area = 0\n",
    "\n",
    "    x = a\n",
    "    table[x] = cum_area\n",
    "\n",
    "    while x < b:\n",
    "        next_x = x + dx\n",
    "        midpoint = (x + next_x) / 2\n",
    "        height = f(midpoint)\n",
    "        area = height * dx\n",
    "        cum_area += area\n",
    "        table[next_x] = cum_area\n",
    "        x = next_x\n",
    "\n",
    "    return table"
   ]
  },
  {
   "cell_type": "code",
   "execution_count": 5,
   "metadata": {},
   "outputs": [],
   "source": [
    "def integrate(f, a, b, n_steps):\n",
    "\n",
    "    table = make_integral_table(f, a, b, n_steps)\n",
    "\n",
    "    def f_integrated(x):\n",
    "\n",
    "        last_k = None\n",
    "        for current_k in table.keys():\n",
    "\n",
    "            if current_k > x:\n",
    "                break\n",
    "            last_k = current_k\n",
    "\n",
    "        return table.get(last_k, 0)\n",
    "\n",
    "    return f_integrated"
   ]
  },
  {
   "cell_type": "code",
   "execution_count": 6,
   "metadata": {},
   "outputs": [],
   "source": [
    "def make_psuedo_inverse_table(f, a, b, n_steps):\n",
    "\n",
    "    dx = (b - a) / n_steps\n",
    "\n",
    "    table = collections.OrderedDict()\n",
    "\n",
    "    x = a\n",
    "    table[f(x)] = x\n",
    "\n",
    "    while x < b:\n",
    "        next_x = x + dx\n",
    "        table[f(next_x)] = next_x\n",
    "        x = next_x\n",
    "\n",
    "    return table"
   ]
  },
  {
   "cell_type": "code",
   "execution_count": 7,
   "metadata": {},
   "outputs": [],
   "source": [
    "def psuedo_invert(f, a, b, n_steps):\n",
    "\n",
    "    table = make_psuedo_inverse_table(f, a, b, n_steps)\n",
    "\n",
    "    def f_inverted(x):\n",
    "        last_k = None\n",
    "        for current_k in table.keys():\n",
    "\n",
    "            if current_k > x:\n",
    "                break\n",
    "            last_k = current_k\n",
    "\n",
    "        return table[last_k] if table[last_k] < b else b\n",
    "\n",
    "    return f_inverted"
   ]
  },
  {
   "cell_type": "code",
   "execution_count": 8,
   "metadata": {},
   "outputs": [],
   "source": [
    "def create_random_variable(cdf, a, b, n_steps):\n",
    "\n",
    "    inverse_cdf = psuedo_invert(cdf, a, b, n_steps)\n",
    "\n",
    "    def random_variable():\n",
    "\n",
    "        return inverse_cdf(random.random())\n",
    "\n",
    "    return random_variable"
   ]
  },
  {
   "cell_type": "code",
   "execution_count": 9,
   "metadata": {},
   "outputs": [],
   "source": [
    "normal_cdf = integrate(normal_pdf, -10, 10, 10_000)"
   ]
  },
  {
   "cell_type": "code",
   "execution_count": 10,
   "metadata": {},
   "outputs": [],
   "source": [
    "inverse_normal_cdf = psuedo_invert(normal_cdf, -10, 10, 10_000)"
   ]
  },
  {
   "cell_type": "code",
   "execution_count": 11,
   "metadata": {},
   "outputs": [
    {
     "data": {
      "text/plain": [
       "-10"
      ]
     },
     "execution_count": 11,
     "metadata": {},
     "output_type": "execute_result"
    }
   ],
   "source": [
    "inverse_normal_cdf(0)"
   ]
  },
  {
   "cell_type": "code",
   "execution_count": 12,
   "metadata": {},
   "outputs": [
    {
     "data": {
      "text/plain": [
       "10"
      ]
     },
     "execution_count": 12,
     "metadata": {},
     "output_type": "execute_result"
    }
   ],
   "source": [
    "inverse_normal_cdf(1)"
   ]
  },
  {
   "cell_type": "code",
   "execution_count": 13,
   "metadata": {},
   "outputs": [],
   "source": [
    "normal_random_variable = create_random_variable(normal_cdf, -10, 10, 10_000)"
   ]
  },
  {
   "cell_type": "code",
   "execution_count": 14,
   "metadata": {},
   "outputs": [
    {
     "data": {
      "text/plain": [
       "0.7800000000000088"
      ]
     },
     "execution_count": 14,
     "metadata": {},
     "output_type": "execute_result"
    }
   ],
   "source": [
    "normal_random_variable()"
   ]
  },
  {
   "cell_type": "code",
   "execution_count": 15,
   "metadata": {},
   "outputs": [
    {
     "data": {
      "text/plain": [
       "(array([1.000e+00, 0.000e+00, 0.000e+00, 1.000e+00, 1.000e+00, 1.000e+00,\n",
       "        2.000e+00, 3.000e+00, 5.000e+00, 8.000e+00, 1.200e+01, 1.700e+01,\n",
       "        1.500e+01, 3.000e+01, 4.600e+01, 5.800e+01, 6.200e+01, 7.700e+01,\n",
       "        1.190e+02, 1.440e+02, 1.420e+02, 2.520e+02, 2.500e+02, 3.370e+02,\n",
       "        4.160e+02, 4.510e+02, 5.410e+02, 6.760e+02, 8.200e+02, 9.050e+02,\n",
       "        1.128e+03, 1.279e+03, 1.441e+03, 1.623e+03, 1.790e+03, 1.955e+03,\n",
       "        2.252e+03, 2.465e+03, 2.738e+03, 2.776e+03, 2.877e+03, 3.274e+03,\n",
       "        3.422e+03, 3.326e+03, 3.469e+03, 3.598e+03, 3.755e+03, 3.702e+03,\n",
       "        3.723e+03, 3.604e+03, 3.533e+03, 3.549e+03, 3.279e+03, 3.191e+03,\n",
       "        2.883e+03, 2.705e+03, 2.559e+03, 2.434e+03, 2.234e+03, 2.014e+03,\n",
       "        1.713e+03, 1.516e+03, 1.399e+03, 1.170e+03, 1.090e+03, 8.980e+02,\n",
       "        8.010e+02, 6.330e+02, 5.410e+02, 4.310e+02, 3.670e+02, 3.020e+02,\n",
       "        2.600e+02, 1.890e+02, 1.770e+02, 1.380e+02, 1.050e+02, 7.800e+01,\n",
       "        6.900e+01, 4.200e+01, 2.100e+01, 2.700e+01, 1.100e+01, 1.300e+01,\n",
       "        8.000e+00, 1.000e+01, 6.000e+00, 6.000e+00, 2.000e+00, 2.000e+00,\n",
       "        2.000e+00, 1.000e+00, 1.000e+00, 0.000e+00, 0.000e+00, 0.000e+00,\n",
       "        0.000e+00, 0.000e+00, 0.000e+00, 1.000e+00]),\n",
       " array([-4.37   , -4.27774, -4.18548, -4.09322, -4.00096, -3.9087 ,\n",
       "        -3.81644, -3.72418, -3.63192, -3.53966, -3.4474 , -3.35514,\n",
       "        -3.26288, -3.17062, -3.07836, -2.9861 , -2.89384, -2.80158,\n",
       "        -2.70932, -2.61706, -2.5248 , -2.43254, -2.34028, -2.24802,\n",
       "        -2.15576, -2.0635 , -1.97124, -1.87898, -1.78672, -1.69446,\n",
       "        -1.6022 , -1.50994, -1.41768, -1.32542, -1.23316, -1.1409 ,\n",
       "        -1.04864, -0.95638, -0.86412, -0.77186, -0.6796 , -0.58734,\n",
       "        -0.49508, -0.40282, -0.31056, -0.2183 , -0.12604, -0.03378,\n",
       "         0.05848,  0.15074,  0.243  ,  0.33526,  0.42752,  0.51978,\n",
       "         0.61204,  0.7043 ,  0.79656,  0.88882,  0.98108,  1.07334,\n",
       "         1.1656 ,  1.25786,  1.35012,  1.44238,  1.53464,  1.6269 ,\n",
       "         1.71916,  1.81142,  1.90368,  1.99594,  2.0882 ,  2.18046,\n",
       "         2.27272,  2.36498,  2.45724,  2.5495 ,  2.64176,  2.73402,\n",
       "         2.82628,  2.91854,  3.0108 ,  3.10306,  3.19532,  3.28758,\n",
       "         3.37984,  3.4721 ,  3.56436,  3.65662,  3.74888,  3.84114,\n",
       "         3.9334 ,  4.02566,  4.11792,  4.21018,  4.30244,  4.3947 ,\n",
       "         4.48696,  4.57922,  4.67148,  4.76374,  4.856  ]),\n",
       " <a list of 100 Patch objects>)"
      ]
     },
     "execution_count": 15,
     "metadata": {},
     "output_type": "execute_result"
    },
    {
     "data": {
      "image/png": "[encoded data removed]",
      "text/plain": [
       "<Figure size 432x288 with 1 Axes>"
      ]
     },
     "metadata": {
      "needs_background": "light"
     },
     "output_type": "display_data"
    }
   ],
   "source": [
    "plt.hist([normal_random_variable() for _ in range(100_000)], bins=100)"
   ]
  },
  {
   "cell_type": "code",
   "execution_count": null,
   "metadata": {},
   "outputs": [],
   "source": []
  }
 ],
 "metadata": {
  "kernelspec": {
   "display_name": "Python 3",
   "language": "python",
   "name": "python3"
  },
  "language_info": {
   "codemirror_mode": {
    "name": "ipython",
    "version": 3
   },
   "file_extension": ".py",
   "mimetype": "text/x-python",
   "name": "python",
   "nbconvert_exporter": "python",
   "pygments_lexer": "ipython3",
   "version": "3.7.5"
  }
 },
 "nbformat": 4,
 "nbformat_minor": 4
}
